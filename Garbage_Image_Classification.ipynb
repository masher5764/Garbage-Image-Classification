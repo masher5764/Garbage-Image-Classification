{
  "nbformat": 4,
  "nbformat_minor": 0,
  "metadata": {
    "colab": {
      "provenance": [],
      "gpuType": "T4",
      "authorship_tag": "ABX9TyOn3/3Ux3vcZioz1lj7vc2j",
      "include_colab_link": true
    },
    "kernelspec": {
      "name": "python3",
      "display_name": "Python 3"
    },
    "language_info": {
      "name": "python"
    },
    "accelerator": "GPU"
  },
  "cells": [
    {
      "cell_type": "markdown",
      "metadata": {
        "id": "view-in-github",
        "colab_type": "text"
      },
      "source": [
        "<a href=\"https://colab.research.google.com/github/masher5764/Garbage-Image-Classification/blob/main/Garbage_Image_Classification.ipynb\" target=\"_parent\"><img src=\"https://colab.research.google.com/assets/colab-badge.svg\" alt=\"Open In Colab\"/></a>"
      ]
    },
    {
      "cell_type": "code",
      "source": [
        "import torch\n",
        "import os\n",
        "from PIL import Image\n",
        "from torchvision import transforms\n",
        "from torch.utils.data import Dataset, DataLoader\n",
        "from sklearn.model_selection import train_test_split"
      ],
      "metadata": {
        "id": "8P5lRF1o1iFv"
      },
      "execution_count": 1,
      "outputs": []
    },
    {
      "cell_type": "code",
      "source": [
        "!unzip '/content/Garbage.zip'"
      ],
      "metadata": {
        "collapsed": true,
        "id": "mNo_gh90vmHh"
      },
      "execution_count": null,
      "outputs": []
    },
    {
      "cell_type": "code",
      "source": [
        "import os\n",
        "image_dir = '/content/Garbage classification/Garbage classification'\n",
        "for label, class_dir in enumerate(os.listdir(image_dir)):\n",
        "  print(label, class_dir)"
      ],
      "metadata": {
        "colab": {
          "base_uri": "https://localhost:8080/"
        },
        "id": "gAV1HBwQvmEg",
        "outputId": "d9dab592-b929-4262-eaac-11baabe2212a"
      },
      "execution_count": 3,
      "outputs": [
        {
          "output_type": "stream",
          "name": "stdout",
          "text": [
            "0 metal\n",
            "1 plastic\n",
            "2 glass\n",
            "3 paper\n",
            "4 cardboard\n",
            "5 trash\n"
          ]
        }
      ]
    },
    {
      "cell_type": "code",
      "source": [
        "class ImageDataset(Dataset):\n",
        "  def __init__(self, image_paths, labels, transform=None):\n",
        "    self.image_paths = image_paths\n",
        "    self.labels = labels\n",
        "    self.transform = transform\n",
        "\n",
        "  def __len__(self):\n",
        "    return len(self.image_paths)\n",
        "\n",
        "  def __getitem__(self, idx):\n",
        "    img_path = self.image_paths[idx]\n",
        "    image = Image.open(img_path).convert(\"RGB\")\n",
        "    label = self.labels[idx]\n",
        "\n",
        "    if self.transform:\n",
        "      image = self.transform(image)\n",
        "\n",
        "    return image, label\n",
        "\n",
        "def load_image_paths_and_labels(image_dir):\n",
        "  image_paths = []\n",
        "  labels = []\n",
        "  class_name = {}\n",
        "\n",
        "  for label, class_dir in enumerate(sorted(os.listdir(image_dir))):\n",
        "    class_path = os.path.join(image_dir, class_dir)\n",
        "    if not os.path.isdir(class_path):\n",
        "      continue\n",
        "    class_name[label] = class_dir\n",
        "    for img_name in os.listdir(class_path):\n",
        "      image_paths.append(os.path.join(class_path, img_name))\n",
        "      labels.append(label)\n",
        "\n",
        "  return image_paths, labels, class_name\n"
      ],
      "metadata": {
        "id": "LhMcBXCgvmAh"
      },
      "execution_count": 4,
      "outputs": []
    },
    {
      "cell_type": "code",
      "source": [
        "# 1. Load image paths and labels\n",
        "image_dir = '/content/Garbage classification/Garbage classification'\n",
        "image_paths, labels, class_name = load_image_paths_and_labels(image_dir)\n",
        "\n",
        "# 2. Split into 80% train and 20% test\n",
        "train_paths, test_paths, train_labels, test_labels = train_test_split(\n",
        "    image_paths, labels, test_size=0.2, stratify=labels, random_state=42\n",
        ")\n",
        "\n",
        "# 3. Define transforms\n",
        "train_transform = transforms.Compose([\n",
        "    transforms.Resize((224, 224)),\n",
        "    transforms.RandomHorizontalFlip(),\n",
        "    transforms.ToTensor()\n",
        "])\n",
        "\n",
        "test_transform = transforms.Compose([\n",
        "    transforms.Resize((224, 224)),\n",
        "    transforms.ToTensor()\n",
        "])\n",
        "\n",
        "# 4. Create datasets\n",
        "train_dataset = ImageDataset(train_paths, train_labels, transform=train_transform)\n",
        "test_dataset = ImageDataset(test_paths, test_labels, transform=test_transform)\n",
        "\n",
        "# Access the class_name dictionary directly\n",
        "print(class_name)"
      ],
      "metadata": {
        "colab": {
          "base_uri": "https://localhost:8080/"
        },
        "id": "ErEnZv3rvl9x",
        "outputId": "a7688172-23ad-48f9-ba6b-772685c5f407"
      },
      "execution_count": 5,
      "outputs": [
        {
          "output_type": "stream",
          "name": "stdout",
          "text": [
            "{0: 'cardboard', 1: 'glass', 2: 'metal', 3: 'paper', 4: 'plastic', 5: 'trash'}\n"
          ]
        }
      ]
    },
    {
      "cell_type": "code",
      "source": [
        "train_image_loader = DataLoader(dataset=train_dataset, batch_size=32, shuffle=False)\n",
        "test_image_loader = DataLoader(dataset=test_dataset, batch_size=32, shuffle=False)"
      ],
      "metadata": {
        "id": "q2eh43VYvl7L"
      },
      "execution_count": 6,
      "outputs": []
    },
    {
      "cell_type": "code",
      "source": [
        "#for images,labels in train_image_loader:\n",
        "  #print(images.shape, labels.shape)"
      ],
      "metadata": {
        "collapsed": true,
        "id": "y4bmWs5Nvl4F"
      },
      "execution_count": 7,
      "outputs": []
    },
    {
      "cell_type": "code",
      "source": [
        "import matplotlib.pyplot as plt\n",
        "import numpy as np"
      ],
      "metadata": {
        "id": "X_dD88MPvl1c"
      },
      "execution_count": 8,
      "outputs": []
    },
    {
      "cell_type": "code",
      "source": [
        "print(class_name)\n",
        "print(class_name)"
      ],
      "metadata": {
        "colab": {
          "base_uri": "https://localhost:8080/"
        },
        "id": "KGrpF7w9vlwr",
        "outputId": "3583650c-d212-41da-d210-2e30b14cf0f8"
      },
      "execution_count": 9,
      "outputs": [
        {
          "output_type": "stream",
          "name": "stdout",
          "text": [
            "{0: 'cardboard', 1: 'glass', 2: 'metal', 3: 'paper', 4: 'plastic', 5: 'trash'}\n",
            "{0: 'cardboard', 1: 'glass', 2: 'metal', 3: 'paper', 4: 'plastic', 5: 'trash'}\n"
          ]
        }
      ]
    },
    {
      "cell_type": "code",
      "source": [
        "for images, labels in train_image_loader:\n",
        "  print(images.shape, labels.shape)  # Should be [32, 3, 224, 224] and [32]\n",
        "\n",
        "  img_tensor = images[0]  # Tensor shape: [3, 224, 224]\n",
        "  label = labels[0].item()\n",
        "\n",
        "  print(\"Label index:\", label)\n",
        "  print(\"Label name:\", class_name[label])\n",
        "\n",
        "  img = img_tensor.permute(1, 2, 0).numpy()  # Shape: [224, 224, 3]\n",
        "  print(\"Image shape for display:\", img.shape)\n",
        "\n",
        "  plt.imshow(img)\n",
        "  plt.title(f\"Class: {class_name[label]}\")\n",
        "  plt.axis('off')\n",
        "  plt.show()\n",
        "  break\n"
      ],
      "metadata": {
        "colab": {
          "base_uri": "https://localhost:8080/",
          "height": 501
        },
        "id": "5fyagGdP4-ng",
        "outputId": "a3f53a20-3e1d-4768-d822-70bb3032fbd3"
      },
      "execution_count": 32,
      "outputs": [
        {
          "output_type": "stream",
          "name": "stdout",
          "text": [
            "torch.Size([32, 3, 224, 224]) torch.Size([32])\n",
            "Label index: 5\n",
            "Label name: trash\n",
            "Image shape for display: (224, 224, 3)\n"
          ]
        },
        {
          "output_type": "display_data",
          "data": {
            "text/plain": [
              "<Figure size 640x480 with 1 Axes>"
            ],
            "image/png": "[encoded data removed]"
          },
          "metadata": {}
        }
      ]
    },
    {
      "cell_type": "code",
      "source": [
        "from collections import Counter\n",
        "\n",
        "label_counts = Counter(train_labels)\n",
        "print(\"Training set class distribution:\")\n",
        "for label, count in label_counts.items():\n",
        "    print(f\"{class_name[label]} ({label}): {count} images\")\n",
        "\n",
        "label_counts = Counter(test_labels)\n",
        "print(\"\\nTest set class distribution:\")\n",
        "for label, count in label_counts.items():\n",
        "    print(f\"{class_name[label]} ({label}): {count} images\")"
      ],
      "metadata": {
        "colab": {
          "base_uri": "https://localhost:8080/"
        },
        "id": "e95FlfuP75WB",
        "outputId": "aee14b08-0f46-4700-ece8-1ab128e23c2e"
      },
      "execution_count": 33,
      "outputs": [
        {
          "output_type": "stream",
          "name": "stdout",
          "text": [
            "Training set class distribution:\n",
            "trash (5): 110 images\n",
            "glass (1): 401 images\n",
            "paper (3): 475 images\n",
            "metal (2): 328 images\n",
            "plastic (4): 385 images\n",
            "cardboard (0): 322 images\n",
            "\n",
            "Test set class distribution:\n",
            "plastic (4): 97 images\n",
            "metal (2): 82 images\n",
            "cardboard (0): 81 images\n",
            "glass (1): 100 images\n",
            "paper (3): 119 images\n",
            "trash (5): 27 images\n"
          ]
        }
      ]
    },
    {
      "cell_type": "markdown",
      "source": [
        "# Custom CNN Architecture"
      ],
      "metadata": {
        "id": "XWjmuqI79lFy"
      }
    },
    {
      "cell_type": "code",
      "source": [
        "import torch.nn as nn\n",
        "import torch.optim as optim"
      ],
      "metadata": {
        "id": "eMvDUVkZ9N74"
      },
      "execution_count": 12,
      "outputs": []
    },
    {
      "cell_type": "code",
      "source": [
        "class CustomCnnModel(nn.Module):\n",
        "    def __init__(self, input_dim, num_classes):\n",
        "        super(CustomCnnModel, self).__init__()\n",
        "        self.input_dim = input_dim\n",
        "        self.num_classes = num_classes\n",
        "\n",
        "        self.conv_layers = nn.Sequential(\n",
        "            # C1\n",
        "            nn.Conv2d(3, 32, kernel_size=3, stride=1, padding=1),\n",
        "            nn.BatchNorm2d(32),\n",
        "            nn.ReLU(),\n",
        "            nn.MaxPool2d(kernel_size=2, stride=2),\n",
        "\n",
        "            # C2\n",
        "            nn.Conv2d(32, 64, kernel_size=3, stride=1, padding=1),\n",
        "            nn.BatchNorm2d(64),\n",
        "            nn.ReLU(),\n",
        "            nn.MaxPool2d(kernel_size=2, stride=2),\n",
        "\n",
        "            # C3\n",
        "            nn.Conv2d(64, 128, kernel_size=3, stride=1, padding=1),\n",
        "            nn.BatchNorm2d(128),\n",
        "            nn.ReLU(),\n",
        "            nn.MaxPool2d(kernel_size=2, stride=2),\n",
        "\n",
        "            # C4\n",
        "            nn.Conv2d(128, 256, kernel_size=3, stride=1, padding=1),\n",
        "            nn.BatchNorm2d(256),\n",
        "            nn.ReLU(),\n",
        "            nn.MaxPool2d(kernel_size=2, stride=2)\n",
        "        )\n",
        "\n",
        "        self._to_linear = 256 * 14 * 14  # Adjusted to match the feature map size after conv layers\n",
        "        self.fc_layers = nn.Sequential(\n",
        "            nn.Linear(self._to_linear, 512),\n",
        "            nn.ReLU(),\n",
        "            nn.Linear(512, 128),\n",
        "            nn.ReLU(),\n",
        "            nn.Linear(128, self.num_classes),\n",
        "        )\n",
        "\n",
        "    def forward(self, x):\n",
        "        x = self.conv_layers(x)\n",
        "        x = x.view(x.size(0), -1)  # Flatten the output\n",
        "        x = self.fc_layers(x)\n",
        "        return x\n",
        "\n",
        "# Initialize Model\n",
        "device = torch.device('cuda' if torch.cuda.is_available() else 'cpu')\n",
        "model = CustomCnnModel(input_dim=224, num_classes=6).to(device)\n",
        "\n",
        "print(model)\n"
      ],
      "metadata": {
        "colab": {
          "base_uri": "https://localhost:8080/"
        },
        "id": "X3XjSK0d9OKx",
        "outputId": "50da87e6-5233-43d6-8d72-61c2b7bf2287"
      },
      "execution_count": 13,
      "outputs": [
        {
          "output_type": "stream",
          "name": "stdout",
          "text": [
            "CustomCnnModel(\n",
            "  (conv_layers): Sequential(\n",
            "    (0): Conv2d(3, 32, kernel_size=(3, 3), stride=(1, 1), padding=(1, 1))\n",
            "    (1): BatchNorm2d(32, eps=1e-05, momentum=0.1, affine=True, track_running_stats=True)\n",
            "    (2): ReLU()\n",
            "    (3): MaxPool2d(kernel_size=2, stride=2, padding=0, dilation=1, ceil_mode=False)\n",
            "    (4): Conv2d(32, 64, kernel_size=(3, 3), stride=(1, 1), padding=(1, 1))\n",
            "    (5): BatchNorm2d(64, eps=1e-05, momentum=0.1, affine=True, track_running_stats=True)\n",
            "    (6): ReLU()\n",
            "    (7): MaxPool2d(kernel_size=2, stride=2, padding=0, dilation=1, ceil_mode=False)\n",
            "    (8): Conv2d(64, 128, kernel_size=(3, 3), stride=(1, 1), padding=(1, 1))\n",
            "    (9): BatchNorm2d(128, eps=1e-05, momentum=0.1, affine=True, track_running_stats=True)\n",
            "    (10): ReLU()\n",
            "    (11): MaxPool2d(kernel_size=2, stride=2, padding=0, dilation=1, ceil_mode=False)\n",
            "    (12): Conv2d(128, 256, kernel_size=(3, 3), stride=(1, 1), padding=(1, 1))\n",
            "    (13): BatchNorm2d(256, eps=1e-05, momentum=0.1, affine=True, track_running_stats=True)\n",
            "    (14): ReLU()\n",
            "    (15): MaxPool2d(kernel_size=2, stride=2, padding=0, dilation=1, ceil_mode=False)\n",
            "  )\n",
            "  (fc_layers): Sequential(\n",
            "    (0): Linear(in_features=50176, out_features=512, bias=True)\n",
            "    (1): ReLU()\n",
            "    (2): Linear(in_features=512, out_features=128, bias=True)\n",
            "    (3): ReLU()\n",
            "    (4): Linear(in_features=128, out_features=6, bias=True)\n",
            "  )\n",
            ")\n"
          ]
        }
      ]
    },
    {
      "cell_type": "code",
      "source": [
        "# Initialize Model\n",
        "device = torch.device('cuda' if torch.cuda.is_available() else 'cpu')\n",
        "model = CustomCnnModel(input_dim=128, num_classes=6).to(device)"
      ],
      "metadata": {
        "id": "AA5fOYLq5b-w"
      },
      "execution_count": 14,
      "outputs": []
    },
    {
      "cell_type": "code",
      "source": [
        "criterion = nn.CrossEntropyLoss()\n",
        "optimizer = optim.Adam(model.parameters(),lr=0.001)"
      ],
      "metadata": {
        "id": "jc1orIx_9uMt"
      },
      "execution_count": 15,
      "outputs": []
    },
    {
      "cell_type": "code",
      "source": [
        "# 100 epoch\n",
        "\n",
        "# 1000\n",
        "# 10 batch size\n",
        "# 100\n",
        "\n",
        "# 1 epoch --> 100 iteration\n",
        "# 2 epoch --> 100 iteration"
      ],
      "metadata": {
        "id": "3imdNBFR9xFU"
      },
      "execution_count": 16,
      "outputs": []
    },
    {
      "cell_type": "code",
      "source": [
        "len(train_image_loader)"
      ],
      "metadata": {
        "colab": {
          "base_uri": "https://localhost:8080/"
        },
        "id": "vzsE68RX90YJ",
        "outputId": "9b14eeaf-281f-46b2-b6d2-679f5845fcc6"
      },
      "execution_count": 17,
      "outputs": [
        {
          "output_type": "execute_result",
          "data": {
            "text/plain": [
              "64"
            ]
          },
          "metadata": {},
          "execution_count": 17
        }
      ]
    },
    {
      "cell_type": "code",
      "source": [
        "# Training loop\n",
        "epochs = 40\n",
        "for epoch in range(epochs):\n",
        "  model.train()\n",
        "  running_loss = 0.0\n",
        "  for images, labels in train_image_loader:\n",
        "    images,labels = images.to(device), labels.to(device)\n",
        "    optimizer.zero_grad()\n",
        "    outputs = model(images)\n",
        "    # [x, 3, 128, 128]\n",
        "\n",
        "    loss = criterion(outputs, labels)\n",
        "    loss.backward()\n",
        "    optimizer.step()\n",
        "    running_loss+=loss.item()\n",
        "  print(f\"Epoch {epoch+1}/{epochs}, Loss : {running_loss/len(train_image_loader)}\")"
      ],
      "metadata": {
        "colab": {
          "base_uri": "https://localhost:8080/"
        },
        "id": "nOP59ECb90Vv",
        "outputId": "71608d03-9111-4fa8-ede7-8b365b7e9b63"
      },
      "execution_count": 18,
      "outputs": [
        {
          "output_type": "stream",
          "name": "stdout",
          "text": [
            "Epoch 1/40, Loss : 2.7722517009824514\n",
            "Epoch 2/40, Loss : 1.3220054423436522\n",
            "Epoch 3/40, Loss : 1.0940581792965531\n",
            "Epoch 4/40, Loss : 0.9711586833000183\n",
            "Epoch 5/40, Loss : 0.8706530597992241\n",
            "Epoch 6/40, Loss : 0.8026480907574296\n",
            "Epoch 7/40, Loss : 0.7415842106565833\n",
            "Epoch 8/40, Loss : 0.6847801946569234\n",
            "Epoch 9/40, Loss : 0.6116724361781962\n",
            "Epoch 10/40, Loss : 0.5468661215854809\n",
            "Epoch 11/40, Loss : 0.5024426379241049\n",
            "Epoch 12/40, Loss : 0.467277895193547\n",
            "Epoch 13/40, Loss : 0.3957803202793002\n",
            "Epoch 14/40, Loss : 0.3266704196576029\n",
            "Epoch 15/40, Loss : 0.29817214503418654\n",
            "Epoch 16/40, Loss : 0.25227318389806896\n",
            "Epoch 17/40, Loss : 0.24937875806062948\n",
            "Epoch 18/40, Loss : 0.20695845497539267\n",
            "Epoch 19/40, Loss : 0.22234251628105994\n",
            "Epoch 20/40, Loss : 0.21578800075803883\n",
            "Epoch 21/40, Loss : 0.17656488198554143\n",
            "Epoch 22/40, Loss : 0.16282606462482363\n",
            "Epoch 23/40, Loss : 0.20601740109123057\n",
            "Epoch 24/40, Loss : 0.15984859538730234\n",
            "Epoch 25/40, Loss : 0.17741675667639356\n",
            "Epoch 26/40, Loss : 0.1785961516579846\n",
            "Epoch 27/40, Loss : 0.11081974927446936\n",
            "Epoch 28/40, Loss : 0.10807997676602099\n",
            "Epoch 29/40, Loss : 0.08952912270069646\n",
            "Epoch 30/40, Loss : 0.11888255369558465\n",
            "Epoch 31/40, Loss : 0.11098981795657892\n",
            "Epoch 32/40, Loss : 0.077552379349072\n",
            "Epoch 33/40, Loss : 0.07835128495025856\n",
            "Epoch 34/40, Loss : 0.09008995153817523\n",
            "Epoch 35/40, Loss : 0.06437915447145315\n",
            "Epoch 36/40, Loss : 0.06900543718643348\n",
            "Epoch 37/40, Loss : 0.0573246299272796\n",
            "Epoch 38/40, Loss : 0.0825044808639177\n",
            "Epoch 39/40, Loss : 0.05676464944190229\n",
            "Epoch 40/40, Loss : 0.06363983560731867\n"
          ]
        }
      ]
    },
    {
      "cell_type": "code",
      "source": [
        "for images, labels in test_image_loader:\n",
        "  print(labels.shape)\n",
        "  break"
      ],
      "metadata": {
        "colab": {
          "base_uri": "https://localhost:8080/"
        },
        "id": "oxOwIn7190LK",
        "outputId": "702ade04-447b-4c1f-d66d-3271bcb99185"
      },
      "execution_count": 19,
      "outputs": [
        {
          "output_type": "stream",
          "name": "stdout",
          "text": [
            "torch.Size([32])\n"
          ]
        }
      ]
    },
    {
      "cell_type": "code",
      "source": [
        "# Evaluate model\n",
        "\n",
        "model.eval()\n",
        "correct = 0\n",
        "total = 0\n",
        "\n",
        "with torch.no_grad():\n",
        "  for images, labels in test_image_loader:\n",
        "    images,labels = images.to(device), labels.to(device)\n",
        "    outputs = model(images)\n",
        "    _, predicted = torch.max(outputs, 1)\n",
        "    total += labels.size(0)\n",
        "    correct += (predicted == labels).sum().item()\n",
        "\n",
        "print(f\"Test accuracy is :{100* correct / total:.2f}%\")"
      ],
      "metadata": {
        "colab": {
          "base_uri": "https://localhost:8080/"
        },
        "id": "rY_MaZvfAlnN",
        "outputId": "14eb155e-851f-4e18-d9e8-dc795f8d11f6"
      },
      "execution_count": 20,
      "outputs": [
        {
          "output_type": "stream",
          "name": "stdout",
          "text": [
            "Test accuracy is :71.54%\n"
          ]
        }
      ]
    },
    {
      "cell_type": "code",
      "source": [
        "import cv2"
      ],
      "metadata": {
        "id": "TwLPlwHVAntl"
      },
      "execution_count": 21,
      "outputs": []
    },
    {
      "cell_type": "code",
      "source": [
        "class ImageClassifier:\n",
        "  def __init__(self, model_path, class_names):\n",
        "    self.device = torch.device('cuda' if torch.cuda.is_available() else 'cpu')\n",
        "    self.class_names = class_names\n",
        "    self.model = CustomCnnModel(input_dim=128, num_classes=len(class_names)).to(self.device)\n",
        "    self.model.load_state_dict(torch.load(model_path, map_location=self.device))\n",
        "    self.model.eval()\n",
        "    self.transform = transforms.Compose([\n",
        "      transforms.Resize((224, 224)),\n",
        "      transforms.ToTensor(),\n",
        "      transforms.Normalize(mean=[0.5, 0.5, 0.5], std=[0.5, 0.5, 0.5])\n",
        "    ])\n",
        "\n",
        "  def predict(self, image_path):\n",
        "    image = Image.open(image_path).convert(\"RGB\")\n",
        "    input_tensor = self.transform(image).unsqueeze(0).to(self.device)\n",
        "    with torch.no_grad():\n",
        "      output = self.model(input_tensor)\n",
        "      _, predicted = torch.max(output, 1)\n",
        "    label = self.class_names[predicted.item()]\n",
        "\n",
        "    img = cv2.imread(image_path)\n",
        "    cv2.putText(img, label, (10, 30), cv2.FONT_HERSHEY_SIMPLEX, 1, (255, 0, 0), 2)\n",
        "    cv2.imwrite(\"output_image.jpg\", img)\n",
        "    return label"
      ],
      "metadata": {
        "id": "LDf4nNkdA0H9"
      },
      "execution_count": 22,
      "outputs": []
    },
    {
      "cell_type": "code",
      "source": [
        "import os\n",
        "os.makedirs(\"/content/saved\", exist_ok=True)\n",
        "torch.save(model.state_dict(), \"/content/saved/cnn_model.pth\")"
      ],
      "metadata": {
        "id": "9vHAWe0LCR6S"
      },
      "execution_count": 23,
      "outputs": []
    },
    {
      "cell_type": "code",
      "source": [
        "# Convert your class_name dict (index to name) into a list\n",
        "classifier = ImageClassifier(\"/content/saved/cnn_model.pth\", class_name)\n",
        "# Make a prediction\n",
        "label = classifier.predict(\"/content/metal_test_pic.jpg\")\n",
        "print(f\"Predicted class is: {label}\")\n"
      ],
      "metadata": {
        "colab": {
          "base_uri": "https://localhost:8080/"
        },
        "id": "27wTHWfpBKFU",
        "outputId": "797262d5-f1f4-461e-c732-1f278907f7ca"
      },
      "execution_count": 29,
      "outputs": [
        {
          "output_type": "stream",
          "name": "stdout",
          "text": [
            "Predicted class is: metal\n"
          ]
        }
      ]
    },
    {
      "cell_type": "code",
      "source": [
        "class_name"
      ],
      "metadata": {
        "colab": {
          "base_uri": "https://localhost:8080/"
        },
        "id": "6vfOPFDHBjkr",
        "outputId": "c8d1c66a-25a4-4f98-ff5f-02ef31f63673"
      },
      "execution_count": 26,
      "outputs": [
        {
          "output_type": "execute_result",
          "data": {
            "text/plain": [
              "{0: 'cardboard', 1: 'glass', 2: 'metal', 3: 'paper', 4: 'plastic', 5: 'trash'}"
            ]
          },
          "metadata": {},
          "execution_count": 26
        }
      ]
    },
    {
      "cell_type": "code",
      "source": [],
      "metadata": {
        "id": "wR2QtyOFFsFB"
      },
      "execution_count": null,
      "outputs": []
    }
  ]
}